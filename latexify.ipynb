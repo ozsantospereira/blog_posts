{
 "cells": [
  {
   "cell_type": "code",
   "execution_count": 21,
   "id": "aeb3cd76",
   "metadata": {
    "ExecuteTime": {
     "end_time": "2025-03-08T23:24:42.362624Z",
     "start_time": "2025-03-08T23:24:42.356960Z"
    }
   },
   "outputs": [
    {
     "data": {
      "text/plain": [
       "'0.4.4'"
      ]
     },
     "execution_count": 21,
     "metadata": {},
     "output_type": "execute_result"
    }
   ],
   "source": [
    "import math  \n",
    "import numpy as np\n",
    "import latexify\n",
    "\n",
    "latexify.__version__"
   ]
  },
  {
   "cell_type": "code",
   "execution_count": 28,
   "id": "75c92e84",
   "metadata": {
    "ExecuteTime": {
     "end_time": "2025-03-08T23:28:33.107082Z",
     "start_time": "2025-03-08T23:28:33.099458Z"
    }
   },
   "outputs": [
    {
     "data": {
      "text/latex": [
       "$$ \\displaystyle \\mathrm{solve}(a, b, c) = \\frac{-b + \\sqrt{ b^{2} - 4 a c }}{2 a} $$"
      ],
      "text/plain": [
       "<latexify.ipython_wrappers.LatexifiedFunction at 0x16168b2c850>"
      ]
     },
     "execution_count": 28,
     "metadata": {},
     "output_type": "execute_result"
    }
   ],
   "source": [
    "@latexify.function\n",
    "def solve(a, b, c):\n",
    "    return (-b + math.sqrt(b**2 - 4*a*c)) / (2*a)\n",
    "\n",
    "solve"
   ]
  },
  {
   "cell_type": "code",
   "execution_count": 12,
   "id": "309bb8b2",
   "metadata": {
    "ExecuteTime": {
     "end_time": "2025-03-08T23:18:30.727430Z",
     "start_time": "2025-03-08T23:18:30.722340Z"
    }
   },
   "outputs": [
    {
     "data": {
      "text/latex": [
       "$$ \\displaystyle \\frac{-b + \\sqrt{ b^{2} - 4 a c }}{2 a} $$"
      ],
      "text/plain": [
       "<latexify.ipython_wrappers.LatexifiedFunction at 0x16168b2e640>"
      ]
     },
     "execution_count": 12,
     "metadata": {},
     "output_type": "execute_result"
    }
   ],
   "source": [
    "\n",
    "# latexify.expression works similarly, but does not output the signature.\n",
    "@latexify.expression\n",
    "def solve(a, b, c):\n",
    "    return (-b + math.sqrt(b**2 - 4*a*c)) / (2*a)\n",
    "\n",
    "solve"
   ]
  },
  {
   "cell_type": "code",
   "execution_count": 14,
   "id": "0fac95d7",
   "metadata": {
    "ExecuteTime": {
     "end_time": "2025-03-08T23:19:07.973295Z",
     "start_time": "2025-03-08T23:19:07.969092Z"
    }
   },
   "outputs": [
    {
     "data": {
      "text/plain": [
       "'\\\\mathrm{solve}(a, b, c) = \\\\frac{-b + \\\\sqrt{ b^{2} - 4 a c }}{2 a}'"
      ]
     },
     "execution_count": 14,
     "metadata": {},
     "output_type": "execute_result"
    }
   ],
   "source": [
    "# latexify.get_latex obtains the underlying LaTeX expression directly.\n",
    "def solve(a, b, c):\n",
    "    return (-b + math.sqrt(b**2 - 4*a*c)) / (2*a)\n",
    "\n",
    "latexify.get_latex(solve)"
   ]
  },
  {
   "cell_type": "code",
   "execution_count": 15,
   "id": "a99f1417",
   "metadata": {
    "ExecuteTime": {
     "end_time": "2025-03-08T23:19:21.833211Z",
     "start_time": "2025-03-08T23:19:21.825213Z"
    }
   },
   "outputs": [
    {
     "data": {
      "text/plain": [
       "'\\\\mathrm{solve}(a, b, c) = \\\\frac{-b + \\\\sqrt{ b^{2} - 4 a c }}{2 a}'"
      ]
     },
     "execution_count": 15,
     "metadata": {},
     "output_type": "execute_result"
    }
   ],
   "source": [
    "# latexify.get_latex obtains the underlying LaTeX expression directly.\n",
    "def solve(a, b, c):\n",
    "    return (-b + math.sqrt(b**2 - 4*a*c)) / (2*a)\n",
    "\n",
    "latexify.get_latex(solve)"
   ]
  },
  {
   "cell_type": "code",
   "execution_count": 17,
   "id": "e7e3636b",
   "metadata": {
    "ExecuteTime": {
     "end_time": "2025-03-08T23:20:14.373468Z",
     "start_time": "2025-03-08T23:20:14.368124Z"
    }
   },
   "outputs": [
    {
     "data": {
      "text/latex": [
       "$$ \\displaystyle \\mathrm{alpha} \\cdot \\mathrm{beta} + \\Gamma \\mathopen{}\\left( \\mathrm{gamma} \\mathclose{}\\right) + \\mathrm{Omega} $$"
      ],
      "text/plain": [
       "<latexify.ipython_wrappers.LatexifiedFunction at 0x16168b15c10>"
      ]
     },
     "execution_count": 17,
     "metadata": {},
     "output_type": "execute_result"
    }
   ],
   "source": [
    "# Some math symbols are converted automatically.\n",
    "\n",
    "@latexify.expression\n",
    "def greek(alpha, beta, gamma, Omega):\n",
    "    return alpha * beta + math.gamma(gamma) + Omega\n",
    "greek"
   ]
  },
  {
   "cell_type": "code",
   "execution_count": 19,
   "id": "c7ddcfb0",
   "metadata": {
    "ExecuteTime": {
     "end_time": "2025-03-08T23:20:52.074484Z",
     "start_time": "2025-03-08T23:20:52.069379Z"
    }
   },
   "outputs": [
    {
     "data": {
      "text/latex": [
       "$$ \\displaystyle \\mathrm{sinc}(x) = \\left\\{ \\begin{array}{ll} 1, & \\mathrm{if} \\ x = 0 \\\\ \\frac{\\sin x}{x}, & \\mathrm{otherwise} \\end{array} \\right. $$"
      ],
      "text/plain": [
       "<latexify.ipython_wrappers.LatexifiedFunction at 0x16168b15040>"
      ]
     },
     "execution_count": 19,
     "metadata": {},
     "output_type": "execute_result"
    }
   ],
   "source": [
    "@latexify.function\n",
    "def sinc(x):\n",
    "    if x == 0:\n",
    "        return 1\n",
    "    else:\n",
    "        return math.sin(x) / x\n",
    "\n",
    "sinc"
   ]
  },
  {
   "cell_type": "code",
   "execution_count": 20,
   "id": "02289d63",
   "metadata": {
    "ExecuteTime": {
     "end_time": "2025-03-08T23:21:18.367868Z",
     "start_time": "2025-03-08T23:21:18.361094Z"
    }
   },
   "outputs": [
    {
     "data": {
      "text/latex": [
       "$$ \\displaystyle \\mathrm{fib}(x) = \\left\\{ \\begin{array}{ll} 0, & \\mathrm{if} \\ x = 0 \\\\ 1, & \\mathrm{if} \\ x = 1 \\\\ \\mathrm{fib} \\mathopen{}\\left( x - 1 \\mathclose{}\\right) + \\mathrm{fib} \\mathopen{}\\left( x - 2 \\mathclose{}\\right), & \\mathrm{otherwise} \\end{array} \\right. $$"
      ],
      "text/plain": [
       "<latexify.ipython_wrappers.LatexifiedFunction at 0x16168b2e460>"
      ]
     },
     "execution_count": 20,
     "metadata": {},
     "output_type": "execute_result"
    }
   ],
   "source": [
    "# Elif or nested else-if are unrolled.\n",
    "@latexify.function\n",
    "def fib(x):\n",
    "    if x == 0:\n",
    "        return 0\n",
    "    elif x == 1:\n",
    "        return 1\n",
    "    else:\n",
    "        return fib(x-1) + fib(x-2)\n",
    "\n",
    "fib"
   ]
  },
  {
   "cell_type": "code",
   "execution_count": 22,
   "id": "d3c202b2",
   "metadata": {
    "ExecuteTime": {
     "end_time": "2025-03-08T23:25:13.031650Z",
     "start_time": "2025-03-08T23:25:13.024280Z"
    }
   },
   "outputs": [
    {
     "data": {
      "text/latex": [
       "$$ \\displaystyle \\mathrm{transform}(x, y, a, b, \\theta, s, t) = \\begin{bmatrix} 1 & 0 & s \\\\ 0 & 1 & t \\\\ 0 & 0 & 1 \\end{bmatrix} \\cdot \\begin{bmatrix} \\cos \\theta & -\\sin \\theta & 0 \\\\ \\sin \\theta & \\cos \\theta & 0 \\\\ 0 & 0 & 1 \\end{bmatrix} \\cdot \\begin{bmatrix} a & 0 & 0 \\\\ 0 & b & 0 \\\\ 0 & 0 & 1 \\end{bmatrix} \\cdot \\begin{bmatrix} x \\\\ y \\\\ 1 \\end{bmatrix} $$"
      ],
      "text/plain": [
       "<latexify.ipython_wrappers.LatexifiedFunction at 0x16168b351f0>"
      ]
     },
     "execution_count": 22,
     "metadata": {},
     "output_type": "execute_result"
    }
   ],
   "source": [
    "# Matrix support.\n",
    "@latexify.function(reduce_assignments=True, use_math_symbols=True)\n",
    "def transform(x, y, a, b, theta, s, t):\n",
    "    cos_t = math.cos(theta)\n",
    "    sin_t = math.sin(theta)\n",
    "    scale = np.array([[a, 0, 0], [0, b, 0], [0, 0, 1]])\n",
    "    rotate = np.array([[cos_t, -sin_t, 0], [sin_t, cos_t, 0], [0, 0, 1]])\n",
    "    move = np.array([[1, 0, s], [0, 1, t], [0, 0, 1]])\n",
    "    return move @ rotate @ scale @ np.array([[x], [y], [1]])\n",
    "\n",
    "transform"
   ]
  },
  {
   "cell_type": "code",
   "execution_count": 23,
   "id": "d3b60722",
   "metadata": {
    "ExecuteTime": {
     "end_time": "2025-03-08T23:26:04.601692Z",
     "start_time": "2025-03-08T23:26:04.591590Z"
    }
   },
   "outputs": [
    {
     "data": {
      "text/latex": [
       "$ \\begin{array}{l} \\mathbf{function} \\ \\mathrm{fib}(x) \\\\ \\hspace{1em} \\mathbf{if} \\ x = 0 \\\\ \\hspace{2em} \\mathbf{return} \\ 0 \\\\ \\hspace{1em} \\mathbf{else} \\\\ \\hspace{2em} \\mathbf{if} \\ x = 1 \\\\ \\hspace{3em} \\mathbf{return} \\ 1 \\\\ \\hspace{2em} \\mathbf{else} \\\\ \\hspace{3em} \\mathbf{return} \\ \\mathrm{fib} \\mathopen{}\\left( x - 1 \\mathclose{}\\right) + \\mathrm{fib} \\mathopen{}\\left( x - 2 \\mathclose{}\\right) \\\\ \\hspace{2em} \\mathbf{end \\ if} \\\\ \\hspace{1em} \\mathbf{end \\ if} \\\\ \\mathbf{end \\ function} \\end{array} $"
      ],
      "text/plain": [
       "<latexify.ipython_wrappers.LatexifiedAlgorithm at 0x16168b2c790>"
      ]
     },
     "execution_count": 23,
     "metadata": {},
     "output_type": "execute_result"
    }
   ],
   "source": [
    "# latexify.algorithmic generates an algorithmic environment instead of an equation.\n",
    "@latexify.algorithmic\n",
    "def fib(x):\n",
    "    if x == 0:\n",
    "        return 0\n",
    "    elif x == 1:\n",
    "        return 1\n",
    "    else:\n",
    "        return fib(x-1) + fib(x-2)\n",
    "\n",
    "fib"
   ]
  }
 ],
 "metadata": {
  "hide_input": false,
  "kernelspec": {
   "display_name": "Python 3 (ipykernel)",
   "language": "python",
   "name": "python3"
  },
  "language_info": {
   "codemirror_mode": {
    "name": "ipython",
    "version": 3
   },
   "file_extension": ".py",
   "mimetype": "text/x-python",
   "name": "python",
   "nbconvert_exporter": "python",
   "pygments_lexer": "ipython3",
   "version": "3.9.13"
  },
  "toc": {
   "base_numbering": 1,
   "nav_menu": {},
   "number_sections": true,
   "sideBar": true,
   "skip_h1_title": false,
   "title_cell": "Table of Contents",
   "title_sidebar": "Contents",
   "toc_cell": false,
   "toc_position": {},
   "toc_section_display": true,
   "toc_window_display": false
  },
  "varInspector": {
   "cols": {
    "lenName": 16,
    "lenType": 16,
    "lenVar": 40
   },
   "kernels_config": {
    "python": {
     "delete_cmd_postfix": "",
     "delete_cmd_prefix": "del ",
     "library": "var_list.py",
     "varRefreshCmd": "print(var_dic_list())"
    },
    "r": {
     "delete_cmd_postfix": ") ",
     "delete_cmd_prefix": "rm(",
     "library": "var_list.r",
     "varRefreshCmd": "cat(var_dic_list()) "
    }
   },
   "types_to_exclude": [
    "module",
    "function",
    "builtin_function_or_method",
    "instance",
    "_Feature"
   ],
   "window_display": false
  }
 },
 "nbformat": 4,
 "nbformat_minor": 5
}
