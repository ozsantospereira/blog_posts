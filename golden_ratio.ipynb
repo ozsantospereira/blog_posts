{
 "cells": [
  {
   "cell_type": "markdown",
   "id": "9d959dc8",
   "metadata": {},
   "source": []
  },
  {
   "cell_type": "markdown",
   "id": "2bc23c1a",
   "metadata": {},
   "source": [
    "# Explanation of the `golden_ratio_flower` Function\n",
    "\n",
    "Inspired by Numberphile video on the Golden Ratio: https://www.youtube.com/watch?v=sj8Sg8qnjOg&t=311s. The `golden_ratio_flower` function generates a floral-like spiral pattern by iteratively rotating a point and scaling its distance outward at fixed intervals. Although the golden ratio is computed, it is not directly used in the algorithm. The function defines a rotation angle based on $\\pi$, applies a 2D rotation matrix, and progressively increases the distance from the origin after a set number of rotations. The points are plotted as black dots, creating a pattern reminiscent of natural seed arrangements. The plot maintains equal axis scaling to preserve symmetry, resulting in an elegant, organic design.\n"
   ]
  },
  {
   "cell_type": "code",
   "execution_count": 7,
   "id": "43625f21",
   "metadata": {
    "ExecuteTime": {
     "end_time": "2025-02-20T18:13:35.741481Z",
     "start_time": "2025-02-20T18:13:35.644480Z"
    }
   },
   "outputs": [
    {
     "data": {
      "image/png": "[encoded data removed]",
      "text/plain": [
       "<Figure size 640x480 with 1 Axes>"
      ]
     },
     "metadata": {},
     "output_type": "display_data"
    }
   ],
   "source": [
    "import numpy as np\n",
    "import matplotlib.pyplot as plt\n",
    "\n",
    "def golden_ratio_flower():\n",
    "    \"\"\"\n",
    "    Generates and plots a 'Golden Ratio Flower' pattern.\n",
    "    \n",
    "    This function computes seed positions by repeatedly rotating a point \n",
    "    and then scaling its magnitude after a fixed number of rotations.\n",
    "    The resulting set of points produces a spiral flower-like pattern,\n",
    "    similar to natural seed arrangements.\n",
    "    \"\"\"\n",
    "    # Although the golden ratio is computed here, it is not used in the algorithm.\n",
    "    phi = (1 + np.sqrt(5)) / 2.0\n",
    "\n",
    "    # Set the number of rotations before scaling.\n",
    "    # The original code used NTURNS = np.pi (a float), but for counter comparisons we need an integer.\n",
    "    rotations = int(np.pi)  # This is equivalent to 3\n",
    "    \n",
    "    # Total number of seeds to generate.\n",
    "    NTRIES = rotations * 100  # Increase multiplier for a denser pattern.\n",
    "    \n",
    "    # Compute the rotation angle in radians.\n",
    "    # Originally, the angle was calculated as 360/NTURNS (with NTURNS=np.pi).\n",
    "    # Here we mimic that by using np.pi in the calculation.\n",
    "    theta_deg = 360.0 / np.pi  # Angle in degrees.\n",
    "    theta = theta_deg * np.pi / 180.0  # Convert degrees to radians.\n",
    "    \n",
    "    # Create the 2D rotation matrix for the computed angle.\n",
    "    R = np.array([[np.cos(theta), -np.sin(theta)],\n",
    "                  [np.sin(theta),  np.cos(theta)]])\n",
    "    \n",
    "    # Initialize lists for x and y coordinates.\n",
    "    x = [1.0]  # Start at (1, 0)\n",
    "    y = [0.0]\n",
    "    \n",
    "    # Define the scaling parameters.\n",
    "    L = 1.0  # Current scaling factor (seed distance from origin)\n",
    "    D = 1.0  # Increment to apply to L after each complete set of rotations.\n",
    "    count = 0  # Counter to track the number of rotations since the last scaling.\n",
    "    \n",
    "    # Generate seed positions.\n",
    "    for i in range(NTRIES):\n",
    "        # Rotate the previous point using the rotation matrix.\n",
    "        current_point = np.array([x[i], y[i]])\n",
    "        new_point = np.dot(R, current_point)\n",
    "        count += 1\n",
    "        \n",
    "        # After a fixed number of rotations, scale the new point so seeds spread out.\n",
    "        if count >= rotations:\n",
    "            count = 0\n",
    "            L += D\n",
    "            # Normalize new_point and scale it to have length L.\n",
    "            norm = np.sqrt(new_point[0]**2 + new_point[1]**2)\n",
    "            if norm == 0:\n",
    "                norm = 1  # safeguard against division by zero\n",
    "            new_point = (L * new_point) / norm\n",
    "        \n",
    "        # Append the computed coordinates.\n",
    "        x.append(new_point[0])\n",
    "        y.append(new_point[1])\n",
    "    \n",
    "    # Create a new figure and plot the generated points.\n",
    "    plt.figure()\n",
    "    plt.plot(x, y, 'k.', markersize=5)  # 'k.' plots small black dots.\n",
    "    plt.axis('equal')  # Ensure equal scaling on both axes.\n",
    "    plt.title(\"Golden Ratio Flower\")\n",
    "    plt.xlabel(\"x\")\n",
    "    plt.ylabel(\"y\")\n",
    "    plt.show()\n",
    "\n",
    "# Call the function to generate and display the plot.\n",
    "golden_ratio_flower()"
   ]
  },
  {
   "cell_type": "code",
   "execution_count": null,
   "id": "2dda0ed7",
   "metadata": {
    "ExecuteTime": {
     "end_time": "2025-02-20T18:02:57.119859Z",
     "start_time": "2025-02-20T18:02:45.917855Z"
    }
   },
   "outputs": [],
   "source": [
    "#Golden Angle - www.101computing.net/golden-angle\n",
    "import turtle\n",
    "import time\n",
    "\n",
    "def drawCircle(x, y, radius, color):\n",
    "    global myPen\n",
    "    myPen.setheading(0)\n",
    "    myPen.penup()\n",
    "    myPen.color(color)\n",
    "    myPen.fillcolor(color)\n",
    "    myPen.goto(x,y-radius)\n",
    "    myPen.begin_fill()\n",
    "    myPen.circle(radius)\n",
    "    myPen.end_fill()\n",
    "    myPen.pendown()\n",
    "    \n",
    "myPen = turtle.Turtle()\n",
    "myPen.hideturtle()\n",
    "myPen.speed(0)\n",
    "\n",
    "#Draw Trunc\n",
    "drawCircle(0, 0, 20 , \"#705623\")\n",
    "\n",
    "myPen.goto(0,0)\n",
    "myPen.width(4)\n",
    "goldenAngle=137.5\n",
    "myPen.setheading(90)\n",
    "\n",
    "for branch in range(0,50):\n",
    "  #Draw Branch\n",
    "  myPen.forward(150)\n",
    "  myPen.forward(-150)\n",
    "  myPen.right(goldenAngle)\n",
    "  time.sleep(1)"
   ]
  },
  {
   "cell_type": "code",
   "execution_count": 6,
   "id": "7d48e167",
   "metadata": {
    "ExecuteTime": {
     "end_time": "2025-02-20T18:13:14.879482Z",
     "start_time": "2025-02-20T18:13:00.145482Z"
    }
   },
   "outputs": [
    {
     "ename": "TclError",
     "evalue": "invalid command name \".!canvas\"",
     "output_type": "error",
     "traceback": [
      "\u001b[1;31m---------------------------------------------------------------------------\u001b[0m",
      "\u001b[1;31mTclError\u001b[0m                                  Traceback (most recent call last)",
      "\u001b[1;32m~\\AppData\\Local\\Temp\\ipykernel_13288\\2896992256.py\u001b[0m in \u001b[0;36m<module>\u001b[1;34m\u001b[0m\n\u001b[0;32m     63\u001b[0m \u001b[0mtina\u001b[0m\u001b[1;33m.\u001b[0m\u001b[0mshape\u001b[0m\u001b[1;33m(\u001b[0m\u001b[1;34m\"turtle\"\u001b[0m\u001b[1;33m)\u001b[0m\u001b[1;33m\u001b[0m\u001b[1;33m\u001b[0m\u001b[0m\n\u001b[0;32m     64\u001b[0m \u001b[0mtina\u001b[0m\u001b[1;33m.\u001b[0m\u001b[0mspeed\u001b[0m\u001b[1;33m(\u001b[0m\u001b[1;36m0\u001b[0m\u001b[1;33m)\u001b[0m \u001b[1;31m# make the turtle go as fast as possible\u001b[0m\u001b[1;33m\u001b[0m\u001b[1;33m\u001b[0m\u001b[0m\n\u001b[1;32m---> 65\u001b[1;33m \u001b[0mdrawPhyllotacticPattern\u001b[0m\u001b[1;33m(\u001b[0m\u001b[0mtina\u001b[0m\u001b[1;33m,\u001b[0m \u001b[1;36m200\u001b[0m\u001b[1;33m,\u001b[0m \u001b[1;36m160\u001b[0m\u001b[1;33m,\u001b[0m \u001b[1;36m137.508\u001b[0m \u001b[1;33m)\u001b[0m\u001b[1;33m\u001b[0m\u001b[1;33m\u001b[0m\u001b[0m\n\u001b[0m\u001b[0;32m     66\u001b[0m \u001b[0mtina\u001b[0m\u001b[1;33m.\u001b[0m\u001b[0mpenup\u001b[0m\u001b[1;33m(\u001b[0m\u001b[1;33m)\u001b[0m\u001b[1;33m\u001b[0m\u001b[1;33m\u001b[0m\u001b[0m\n\u001b[0;32m     67\u001b[0m \u001b[0mtina\u001b[0m\u001b[1;33m.\u001b[0m\u001b[0mforward\u001b[0m\u001b[1;33m(\u001b[0m\u001b[1;36m1000\u001b[0m\u001b[1;33m)\u001b[0m\u001b[1;33m\u001b[0m\u001b[1;33m\u001b[0m\u001b[0m\n",
      "\u001b[1;32m~\\AppData\\Local\\Temp\\ipykernel_13288\\2896992256.py\u001b[0m in \u001b[0;36mdrawPhyllotacticPattern\u001b[1;34m(turtle, t, petalstart, angle, size, cspread)\u001b[0m\n\u001b[0;32m     37\u001b[0m         \u001b[1;32mif\u001b[0m \u001b[0mn\u001b[0m \u001b[1;33m>\u001b[0m \u001b[0mpetalstart\u001b[0m\u001b[1;33m-\u001b[0m\u001b[1;36m1\u001b[0m\u001b[1;33m:\u001b[0m\u001b[1;33m\u001b[0m\u001b[1;33m\u001b[0m\u001b[0m\n\u001b[0;32m     38\u001b[0m             \u001b[0mturtle\u001b[0m\u001b[1;33m.\u001b[0m\u001b[0mcolor\u001b[0m\u001b[1;33m(\u001b[0m\u001b[1;34m\"yellow\"\u001b[0m\u001b[1;33m)\u001b[0m\u001b[1;33m\u001b[0m\u001b[1;33m\u001b[0m\u001b[0m\n\u001b[1;32m---> 39\u001b[1;33m             \u001b[0mdrawPetal\u001b[0m\u001b[1;33m(\u001b[0m\u001b[0mturtle\u001b[0m\u001b[1;33m,\u001b[0m\u001b[0mx\u001b[0m\u001b[1;33m,\u001b[0m\u001b[0my\u001b[0m\u001b[1;33m)\u001b[0m\u001b[1;33m\u001b[0m\u001b[1;33m\u001b[0m\u001b[0m\n\u001b[0m\u001b[0;32m     40\u001b[0m         \u001b[1;32melse\u001b[0m\u001b[1;33m:\u001b[0m \u001b[0mturtle\u001b[0m\u001b[1;33m.\u001b[0m\u001b[0mstamp\u001b[0m\u001b[1;33m(\u001b[0m\u001b[1;33m)\u001b[0m\u001b[1;33m\u001b[0m\u001b[1;33m\u001b[0m\u001b[0m\n\u001b[0;32m     41\u001b[0m \u001b[1;33m\u001b[0m\u001b[0m\n",
      "\u001b[1;32m~\\AppData\\Local\\Temp\\ipykernel_13288\\2896992256.py\u001b[0m in \u001b[0;36mdrawPetal\u001b[1;34m(turtle, x, y)\u001b[0m\n\u001b[0;32m     57\u001b[0m     \u001b[0mturtle\u001b[0m\u001b[1;33m.\u001b[0m\u001b[0mforward\u001b[0m\u001b[1;33m(\u001b[0m\u001b[1;36m70\u001b[0m\u001b[1;33m)\u001b[0m\u001b[1;33m\u001b[0m\u001b[1;33m\u001b[0m\u001b[0m\n\u001b[0;32m     58\u001b[0m     \u001b[0mturtle\u001b[0m\u001b[1;33m.\u001b[0m\u001b[0mpenup\u001b[0m\u001b[1;33m(\u001b[0m\u001b[1;33m)\u001b[0m\u001b[1;33m\u001b[0m\u001b[1;33m\u001b[0m\u001b[0m\n\u001b[1;32m---> 59\u001b[1;33m     \u001b[0mturtle\u001b[0m\u001b[1;33m.\u001b[0m\u001b[0mend_fill\u001b[0m\u001b[1;33m(\u001b[0m\u001b[1;33m)\u001b[0m \u001b[1;31m# this is needed to complete the last petal\u001b[0m\u001b[1;33m\u001b[0m\u001b[1;33m\u001b[0m\u001b[0m\n\u001b[0m\u001b[0;32m     60\u001b[0m \u001b[1;33m\u001b[0m\u001b[0m\n\u001b[0;32m     61\u001b[0m \u001b[1;33m\u001b[0m\u001b[0m\n",
      "\u001b[1;32m~\\anaconda3\\envs\\Oz\\lib\\turtle.py\u001b[0m in \u001b[0;36mend_fill\u001b[1;34m(self)\u001b[0m\n\u001b[0;32m   3344\u001b[0m         \u001b[1;32mif\u001b[0m \u001b[0mself\u001b[0m\u001b[1;33m.\u001b[0m\u001b[0mfilling\u001b[0m\u001b[1;33m(\u001b[0m\u001b[1;33m)\u001b[0m\u001b[1;33m:\u001b[0m\u001b[1;33m\u001b[0m\u001b[1;33m\u001b[0m\u001b[0m\n\u001b[0;32m   3345\u001b[0m             \u001b[1;32mif\u001b[0m \u001b[0mlen\u001b[0m\u001b[1;33m(\u001b[0m\u001b[0mself\u001b[0m\u001b[1;33m.\u001b[0m\u001b[0m_fillpath\u001b[0m\u001b[1;33m)\u001b[0m \u001b[1;33m>\u001b[0m \u001b[1;36m2\u001b[0m\u001b[1;33m:\u001b[0m\u001b[1;33m\u001b[0m\u001b[1;33m\u001b[0m\u001b[0m\n\u001b[1;32m-> 3346\u001b[1;33m                 self.screen._drawpoly(self._fillitem, self._fillpath,\n\u001b[0m\u001b[0;32m   3347\u001b[0m                                       fill=self._fillcolor)\n\u001b[0;32m   3348\u001b[0m                 \u001b[1;32mif\u001b[0m \u001b[0mself\u001b[0m\u001b[1;33m.\u001b[0m\u001b[0mundobuffer\u001b[0m\u001b[1;33m:\u001b[0m\u001b[1;33m\u001b[0m\u001b[1;33m\u001b[0m\u001b[0m\n",
      "\u001b[1;32m~\\anaconda3\\envs\\Oz\\lib\\turtle.py\u001b[0m in \u001b[0;36m_drawpoly\u001b[1;34m(self, polyitem, coordlist, fill, outline, width, top)\u001b[0m\n\u001b[0;32m    511\u001b[0m             \u001b[0mcl\u001b[0m\u001b[1;33m.\u001b[0m\u001b[0mappend\u001b[0m\u001b[1;33m(\u001b[0m\u001b[0mx\u001b[0m \u001b[1;33m*\u001b[0m \u001b[0mself\u001b[0m\u001b[1;33m.\u001b[0m\u001b[0mxscale\u001b[0m\u001b[1;33m)\u001b[0m\u001b[1;33m\u001b[0m\u001b[1;33m\u001b[0m\u001b[0m\n\u001b[0;32m    512\u001b[0m             \u001b[0mcl\u001b[0m\u001b[1;33m.\u001b[0m\u001b[0mappend\u001b[0m\u001b[1;33m(\u001b[0m\u001b[1;33m-\u001b[0m\u001b[0my\u001b[0m \u001b[1;33m*\u001b[0m \u001b[0mself\u001b[0m\u001b[1;33m.\u001b[0m\u001b[0myscale\u001b[0m\u001b[1;33m)\u001b[0m\u001b[1;33m\u001b[0m\u001b[1;33m\u001b[0m\u001b[0m\n\u001b[1;32m--> 513\u001b[1;33m         \u001b[0mself\u001b[0m\u001b[1;33m.\u001b[0m\u001b[0mcv\u001b[0m\u001b[1;33m.\u001b[0m\u001b[0mcoords\u001b[0m\u001b[1;33m(\u001b[0m\u001b[0mpolyitem\u001b[0m\u001b[1;33m,\u001b[0m \u001b[1;33m*\u001b[0m\u001b[0mcl\u001b[0m\u001b[1;33m)\u001b[0m\u001b[1;33m\u001b[0m\u001b[1;33m\u001b[0m\u001b[0m\n\u001b[0m\u001b[0;32m    514\u001b[0m         \u001b[1;32mif\u001b[0m \u001b[0mfill\u001b[0m \u001b[1;32mis\u001b[0m \u001b[1;32mnot\u001b[0m \u001b[1;32mNone\u001b[0m\u001b[1;33m:\u001b[0m\u001b[1;33m\u001b[0m\u001b[1;33m\u001b[0m\u001b[0m\n\u001b[0;32m    515\u001b[0m             \u001b[0mself\u001b[0m\u001b[1;33m.\u001b[0m\u001b[0mcv\u001b[0m\u001b[1;33m.\u001b[0m\u001b[0mitemconfigure\u001b[0m\u001b[1;33m(\u001b[0m\u001b[0mpolyitem\u001b[0m\u001b[1;33m,\u001b[0m \u001b[0mfill\u001b[0m\u001b[1;33m=\u001b[0m\u001b[0mfill\u001b[0m\u001b[1;33m)\u001b[0m\u001b[1;33m\u001b[0m\u001b[1;33m\u001b[0m\u001b[0m\n",
      "\u001b[1;32m<string>\u001b[0m in \u001b[0;36mcoords\u001b[1;34m(self, *args, **kw)\u001b[0m\n",
      "\u001b[1;32m~\\anaconda3\\envs\\Oz\\lib\\tkinter\\__init__.py\u001b[0m in \u001b[0;36mcoords\u001b[1;34m(self, *args)\u001b[0m\n\u001b[0;32m   2764\u001b[0m         return [self.tk.getdouble(x) for x in\n\u001b[0;32m   2765\u001b[0m                            self.tk.splitlist(\n\u001b[1;32m-> 2766\u001b[1;33m                    self.tk.call((self._w, 'coords') + args))]\n\u001b[0m\u001b[0;32m   2767\u001b[0m \u001b[1;33m\u001b[0m\u001b[0m\n\u001b[0;32m   2768\u001b[0m     \u001b[1;32mdef\u001b[0m \u001b[0m_create\u001b[0m\u001b[1;33m(\u001b[0m\u001b[0mself\u001b[0m\u001b[1;33m,\u001b[0m \u001b[0mitemType\u001b[0m\u001b[1;33m,\u001b[0m \u001b[0margs\u001b[0m\u001b[1;33m,\u001b[0m \u001b[0mkw\u001b[0m\u001b[1;33m)\u001b[0m\u001b[1;33m:\u001b[0m \u001b[1;31m# Args: (val, val, ..., cnf={})\u001b[0m\u001b[1;33m\u001b[0m\u001b[1;33m\u001b[0m\u001b[0m\n",
      "\u001b[1;31mTclError\u001b[0m: invalid command name \".!canvas\""
     ]
    }
   ],
   "source": [
    "# Spiral Phyllotaxis Demo\n",
    "#\n",
    "# Example for VSFX 705\n",
    "# Turtle Sunflowers - Introduce Phyllotactic Pattern\n",
    "#\n",
    "# Author: Deborah R. Fowler\n",
    "#\n",
    "# March 21, 2013\n",
    "# Based on original code in C 1989 using Silicon Graphics Workstations and gl\n",
    "import math\n",
    "import turtle\n",
    "\n",
    "def drawPhyllotacticPattern(turtle, t, petalstart, angle = 137.508, size = 2, cspread = 4 ):\n",
    "    \"\"\"print a pattern of circles using spiral phyllotactic data\"\"\"\n",
    "    # initialize position\n",
    "    # turtle.pen(outline=1,pencolor=\"black\",fillcolor=\"orange\")\n",
    "    turtle.color('black')\n",
    "    turtle.fillcolor(\"orange\")\n",
    "    phi = angle * ( math.pi / 180.0 )\n",
    "    xcenter = 0.0\n",
    "    ycenter = 0.0\n",
    "   \n",
    "    # for loops iterate in this case from the first value until < 4, so\n",
    "    for n in range (0,t):\n",
    "        r = cspread * math.sqrt(n)\n",
    "        theta = n * phi\n",
    "        \n",
    "        x = r * math.cos(theta) + xcenter\n",
    "        y = r * math.sin(theta) + ycenter\n",
    "\n",
    "        # move the turtle to that position and draw \n",
    "        turtle.up()\n",
    "        turtle.setpos(x,y)\n",
    "        turtle.down()\n",
    "        # orient the turtle correctly\n",
    "        turtle.setheading(n * angle)\n",
    "        if n > petalstart-1:\n",
    "            turtle.color(\"yellow\")\n",
    "            drawPetal(turtle,x,y)\n",
    "        else: turtle.stamp()\n",
    "            \n",
    "\n",
    "def drawPetal(turtle, x, y ):\n",
    "    turtle.penup()\n",
    "    turtle.goto(x,y)\n",
    "    turtle.pendown()\n",
    "    turtle.color('black')\n",
    "    turtle.fillcolor('yellow')\n",
    "    turtle.begin_fill()\n",
    "    turtle.right(20)\n",
    "    turtle.forward(70)\n",
    "    turtle.left(40)\n",
    "    turtle.forward(70)\n",
    "    turtle.left(140)\n",
    "    turtle.forward(70)\n",
    "    turtle.left(40)\n",
    "    turtle.forward(70)\n",
    "    turtle.penup()\n",
    "    turtle.end_fill() # this is needed to complete the last petal\n",
    "\n",
    "\n",
    "tina = turtle.Turtle()\n",
    "tina.shape(\"turtle\")\n",
    "tina.speed(0) # make the turtle go as fast as possible\n",
    "drawPhyllotacticPattern(tina, 200, 160, 137.508 )\n",
    "tina.penup()\n",
    "tina.forward(1000)\n",
    "# tina.exitonclick() # lets you x out of the window when outside of idle\n"
   ]
  },
  {
   "cell_type": "code",
   "execution_count": null,
   "id": "a2bba124",
   "metadata": {},
   "outputs": [],
   "source": []
  }
 ],
 "metadata": {
  "hide_input": false,
  "kernelspec": {
   "display_name": "Python 3 (ipykernel)",
   "language": "python",
   "name": "python3"
  },
  "language_info": {
   "codemirror_mode": {
    "name": "ipython",
    "version": 3
   },
   "file_extension": ".py",
   "mimetype": "text/x-python",
   "name": "python",
   "nbconvert_exporter": "python",
   "pygments_lexer": "ipython3",
   "version": "3.9.13"
  },
  "toc": {
   "base_numbering": 1,
   "nav_menu": {},
   "number_sections": true,
   "sideBar": true,
   "skip_h1_title": false,
   "title_cell": "Table of Contents",
   "title_sidebar": "Contents",
   "toc_cell": false,
   "toc_position": {},
   "toc_section_display": true,
   "toc_window_display": false
  },
  "varInspector": {
   "cols": {
    "lenName": 16,
    "lenType": 16,
    "lenVar": 40
   },
   "kernels_config": {
    "python": {
     "delete_cmd_postfix": "",
     "delete_cmd_prefix": "del ",
     "library": "var_list.py",
     "varRefreshCmd": "print(var_dic_list())"
    },
    "r": {
     "delete_cmd_postfix": ") ",
     "delete_cmd_prefix": "rm(",
     "library": "var_list.r",
     "varRefreshCmd": "cat(var_dic_list()) "
    }
   },
   "types_to_exclude": [
    "module",
    "function",
    "builtin_function_or_method",
    "instance",
    "_Feature"
   ],
   "window_display": false
  }
 },
 "nbformat": 4,
 "nbformat_minor": 5
}
